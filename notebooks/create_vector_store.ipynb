{
  "cells": [
    {
      "cell_type": "markdown",
      "metadata": {
        "id": "IgPNNLzrL7vm"
      },
      "source": [
        "# การประมวลผลและการเตรียมข้อมูล (Preprocessing)"
      ]
    },
    {
      "cell_type": "markdown",
      "metadata": {
        "id": "WsCWuW9F9VTk"
      },
      "source": [
        "### รวบรวมข้อมูล"
      ]
    },
    {
      "cell_type": "code",
      "execution_count": null,
      "metadata": {
        "id": "6fS7I3vi9k-5"
      },
      "outputs": [],
      "source": [
        "import json\n",
        "\n",
        "with open('/content/Fantastic_Beasts_and_Where_to_Find_Them.json', 'r', encoding='utf-8') as file:\n",
        "    data = json.load(file)"
      ]
    },
    {
      "cell_type": "code",
      "execution_count": null,
      "metadata": {
        "id": "LRuwOiBD9nCD"
      },
      "outputs": [],
      "source": [
        "print(f\"จำนวน: {len(data)}\")"
      ]
    },
    {
      "cell_type": "code",
      "execution_count": null,
      "metadata": {
        "collapsed": true,
        "id": "tVLodryR_QCR"
      },
      "outputs": [],
      "source": [
        "# ตัวอย่างข้อมูลบางส่วน\n",
        "print(json.dumps(data[0:5], indent=2, ensure_ascii=False))"
      ]
    },
    {
      "cell_type": "markdown",
      "metadata": {
        "id": "aKuNHR6nLOxK"
      },
      "source": [
        "### แบ่งส่วนข้อมูล"
      ]
    },
    {
      "cell_type": "code",
      "execution_count": null,
      "metadata": {
        "collapsed": true,
        "id": "rOiGU7OL_lKr"
      },
      "outputs": [],
      "source": [
        "# ข้อมูลอยู่ในรูปเเบบเป็นรายละเอียดข้อมูล chunks ย่อย ๆ ของสัตว์มหัศจรรย์เเต่ละตีวอยู่เเล้ว\n",
        "\n",
        "print(\"### chunks 1\")\n",
        "print(data[1][\"Description\"])\n",
        "print(\"=\"*200)\n",
        "print(\"### chunks 2\")\n",
        "print(data[2][\"Description\"])"
      ]
    },
    {
      "cell_type": "markdown",
      "metadata": {
        "id": "Y7c9lIdvPkF-"
      },
      "source": [
        "# Facebook AI Similarity Search (FAISS)"
      ]
    },
    {
      "cell_type": "markdown",
      "metadata": {
        "id": "AIMGDL42PpMf"
      },
      "source": [
        "### Setup"
      ]
    },
    {
      "cell_type": "code",
      "execution_count": null,
      "metadata": {
        "collapsed": true,
        "id": "vjbCM83JPrKC"
      },
      "outputs": [],
      "source": [
        "!pip install -qU langchain-community faiss-cpu"
      ]
    },
    {
      "cell_type": "markdown",
      "metadata": {
        "id": "nGryxczePyBe"
      },
      "source": [
        "### Initialization"
      ]
    },
    {
      "cell_type": "code",
      "execution_count": null,
      "metadata": {
        "collapsed": true,
        "id": "iB6PdTPuP0Gz"
      },
      "outputs": [],
      "source": [
        "!pip install -qU langchain-huggingface"
      ]
    },
    {
      "cell_type": "code",
      "execution_count": null,
      "metadata": {
        "collapsed": true,
        "id": "l0yODju7QN5P"
      },
      "outputs": [],
      "source": [
        "!pip install -U FlagEmbedding"
      ]
    },
    {
      "cell_type": "code",
      "execution_count": null,
      "metadata": {
        "id": "7U2M9UUUP5VS"
      },
      "outputs": [],
      "source": [
        "from FlagEmbedding import BGEM3FlagModel\n",
        "from langchain_huggingface import HuggingFaceEmbeddings\n",
        "\n",
        "# โหลด embeddings โมเดล\n",
        "embeddings = HuggingFaceEmbeddings(model_name=\"BAAI/bge-m3\") # BAAI/bge-m3 รองรับภาษาไทย"
      ]
    },
    {
      "cell_type": "code",
      "execution_count": null,
      "metadata": {
        "id": "edMtl9JcSoED"
      },
      "outputs": [],
      "source": [
        "import faiss\n",
        "from langchain_community.docstore.in_memory import InMemoryDocstore\n",
        "from langchain_community.vectorstores import FAISS\n",
        "\n",
        "index = faiss.IndexFlatL2(len(embeddings.embed_query(\"hello world\")))\n",
        "\n",
        "vector_store = FAISS(\n",
        "    embedding_function=embeddings,\n",
        "    index=index,\n",
        "    docstore=InMemoryDocstore(),\n",
        "    index_to_docstore_id={},\n",
        ")"
      ]
    },
    {
      "cell_type": "code",
      "execution_count": null,
      "metadata": {
        "id": "PkekLiObdgOY"
      },
      "outputs": [],
      "source": [
        "# ตรวจสอบรายการ UUID ที่ถูกเก็บไว้\n",
        "print(list(vector_store.index_to_docstore_id.values()))\n",
        "\n",
        "# [] ยังไม่มีข้อมูล"
      ]
    },
    {
      "cell_type": "markdown",
      "metadata": {
        "id": "XwyZ_nOuS5gv"
      },
      "source": [
        "### Manage vector store"
      ]
    },
    {
      "cell_type": "code",
      "execution_count": null,
      "metadata": {
        "id": "riDDANJjTPUW"
      },
      "outputs": [],
      "source": [
        "from uuid import uuid4\n",
        "from langchain_core.documents import Document\n",
        "\n",
        "documents = []\n",
        "for item in data:\n",
        "  # สร้าง documents store\n",
        "  document =  Document(\n",
        "    page_content= item['Description'],\n",
        "    metadata={\n",
        "        \"Id\": item['Id'],\n",
        "        \"Name\": item['Name'],\n",
        "        },\n",
        "    )\n",
        "  documents.append(document)\n",
        "\n",
        "uuids = [str(uuid4()) for _ in range(len(documents))]\n",
        "\n",
        "# บันทึก UUIDs ลงไฟล์ uuids.json\n",
        "with open(\"uuids.json\", \"w\") as f:\n",
        "    json.dump(uuids, f, indent=2, ensure_ascii=False)\n",
        "\n",
        "print(\"บันทึก UUIDs ลงไฟล์ uuids.json เรียบร้อยแล้ว!\")\n"
      ]
    },
    {
      "cell_type": "code",
      "execution_count": null,
      "metadata": {
        "collapsed": true,
        "id": "s_0raHtJTFu2"
      },
      "outputs": [],
      "source": [
        "serialized_documents = [{'page_content': doc.page_content, 'metadata': doc.metadata} for doc in documents]\n",
        "\n",
        "print(json.dumps(serialized_documents, indent=2, ensure_ascii=False))"
      ]
    },
    {
      "cell_type": "code",
      "execution_count": null,
      "metadata": {
        "id": "eBZpwySSZRp1"
      },
      "outputs": [],
      "source": [
        "# สร้าง vector store\n",
        "vector_store.add_documents(documents=documents, ids=uuids)"
      ]
    },
    {
      "cell_type": "markdown",
      "metadata": {
        "id": "TnFHV5vNdOTV"
      },
      "source": [
        "#### วิธีตรวจสอบว่า UUID อยู่ใน vector_store และดึงข้อมูล"
      ]
    },
    {
      "cell_type": "code",
      "execution_count": null,
      "metadata": {
        "id": "7rhsRiu3eE8U"
      },
      "outputs": [],
      "source": [
        "# ตรวจสอบรายการ UUID ที่ถูกเก็บไว้\n",
        "uuids = list(vector_store.index_to_docstore_id.values())\n",
        "print(json.dumps(uuids, indent=1))"
      ]
    },
    {
      "cell_type": "code",
      "execution_count": null,
      "metadata": {
        "id": "mLTGxM0acL8T"
      },
      "outputs": [],
      "source": [
        "uuid_to_find = \"56e8fde8-fa5f-4e77-9747-a4a17803ade6\"\n",
        "\n",
        "# ตรวจสอบว่า UUID อยู่ใน vector_store หรือไม่\n",
        "if uuid_to_find in vector_store.index_to_docstore_id.values():\n",
        "    retrieved_doc = vector_store.docstore.search(uuid_to_find)\n",
        "    print(\"📄 Document Content:\", retrieved_doc.page_content)\n",
        "    print(\"📝 Metadata:\", retrieved_doc.metadata)\n",
        "else:\n",
        "    print(\"❌ UUID นี้ไม่มีอยู่ใน Vector Store\")\n"
      ]
    },
    {
      "cell_type": "markdown",
      "metadata": {
        "id": "whKpHVUoej7_"
      },
      "source": [
        "#### Delete items from vector store"
      ]
    },
    {
      "cell_type": "code",
      "execution_count": null,
      "metadata": {
        "id": "p9uaYWJrecfX"
      },
      "outputs": [],
      "source": [
        "print(\"=== ก่อนลบข้อมูล === \")\n",
        "uuids = list(vector_store.index_to_docstore_id.values())\n",
        "print(json.dumps(uuids, indent=1))\n",
        "\n",
        "print(\"=== หลังลบข้อมูล ===\")\n",
        "vector_store.delete(ids= [uuids[-1]]) # ลบตัวสุดท้าย\n",
        "uuids = list(vector_store.index_to_docstore_id.values())\n",
        "print(json.dumps(uuids, indent=1))"
      ]
    },
    {
      "cell_type": "markdown",
      "metadata": {
        "id": "wApTkeXhg4OQ"
      },
      "source": [
        "### Query vector store"
      ]
    },
    {
      "cell_type": "code",
      "execution_count": null,
      "metadata": {
        "collapsed": true,
        "id": "qFx7EwH0hWbT"
      },
      "outputs": [],
      "source": [
        "results = vector_store.similarity_search_with_score(\n",
        "    \"ฮิปโปกริฟฟ์ มีพื้นเพอยู่ในยุโรป แต่ปัจจุบันพบได้ทั่วโลก มันมีหัวเป็นนกอินทรี ตัวเป็นม้า เลี้ยงให้เชื่องได้ แต่ต้องกระทําโดยผู้เชี่ยวชาญเท่านั้น เมื่อเข้าใกล้ฮิปโปกริฟฟ์จะต้องมองสบตามันไว้ตลอด?\", k=10\n",
        ")\n",
        "for res, score in results:\n",
        "    print(f\"=\"*200)\n",
        "    print(f\"* [SIM={score:3f}] {res.page_content} [{res.metadata}]\")\n",
        "    print(f\"* {res.page_content}\")\n",
        "    print(f\"* [{res.metadata}]\")"
      ]
    },
    {
      "cell_type": "code",
      "execution_count": null,
      "metadata": {
        "id": "v0wNe7Wvxzy_"
      },
      "outputs": [],
      "source": [
        "docs = vector_store.similarity_search_with_score(\n",
        "    \"ฉันอยากเสี่ยงสัตววิเศษที่ ที่เป็นมิตร ต่อพ่อมด อาศัยอยู่ในนํ้า ชอบกินผักขม มีตัวอะไรเเนะนำบ้าง\", k=20\n",
        ")\n",
        "\n",
        "print(\"docs\", docs)\n",
        "\n",
        "results = []\n",
        "for res, score in docs:\n",
        "    results.append(\n",
        "        {\n",
        "            \"score\": f\"{score:3f}\",\n",
        "            \"content\": res.page_content,\n",
        "            \"metadata\": res.metadata,\n",
        "        }\n",
        "\n",
        "    )\n",
        "\n",
        "results = {\"data\": results}\n",
        "print(json.dumps(results, indent=2, ensure_ascii=False))\n",
        "\n",
        "with open(\"result.json\", \"w\", encoding=\"utf-8\") as f:\n",
        "    json.dump(results, f, indent=2, ensure_ascii=False)"
      ]
    },
    {
      "cell_type": "code",
      "execution_count": null,
      "metadata": {
        "id": "5rbrxHwtiy5g"
      },
      "outputs": [],
      "source": [
        "results[0]"
      ]
    },
    {
      "cell_type": "code",
      "execution_count": null,
      "metadata": {
        "id": "W6f1Pmz7hkMy"
      },
      "outputs": [],
      "source": [
        "# Document\n",
        "results[0][0]"
      ]
    },
    {
      "cell_type": "code",
      "execution_count": null,
      "metadata": {
        "id": "662xt2pbjr0B"
      },
      "outputs": [],
      "source": [
        "# score\n",
        "results[0][1]"
      ]
    },
    {
      "cell_type": "markdown",
      "metadata": {
        "id": "BJHDuaYOkDAw"
      },
      "source": [
        "### Saving and loading"
      ]
    },
    {
      "cell_type": "code",
      "execution_count": null,
      "metadata": {
        "id": "nbqPMQUHkGkW"
      },
      "outputs": [],
      "source": [
        "# Saving\n",
        "vector_store.save_local(\"faiss_index\")"
      ]
    },
    {
      "cell_type": "code",
      "execution_count": null,
      "metadata": {
        "id": "cnD5HSAClb6A"
      },
      "outputs": [],
      "source": [
        "# สร้าง zip file\n",
        "!zip -r faiss_index.zip faiss_index/\n",
        "\n",
        "# ดาวน์โหลดไฟล์ zip\n",
        "from google.colab import files\n",
        "files.download('faiss_index.zip')"
      ]
    },
    {
      "cell_type": "code",
      "execution_count": null,
      "metadata": {
        "id": "UuDkeheqkKHR"
      },
      "outputs": [],
      "source": [
        "# loading\n",
        "new_vector_store = FAISS.load_local(\n",
        "    # embeddings ต้องเป็น model เดียวกับกับที่ใช้สร้าง vector_store\n",
        "    \"faiss_index\", embeddings, allow_dangerous_deserialization=True\n",
        ")\n",
        "\n",
        "docs = new_vector_store.similarity_search(\"qux\")"
      ]
    },
    {
      "cell_type": "code",
      "execution_count": null,
      "metadata": {
        "id": "5NyxnPDPkYdT"
      },
      "outputs": [],
      "source": [
        "# ใช้ vector_store ที่เรา save มา\n",
        "results = new_vector_store.similarity_search_with_score(\n",
        "    \"ฉันสามารถพบฮิปโปกริฟฟ์ได้ที่ไหน\", k=2\n",
        ")\n",
        "for res, score in results:\n",
        "    print(f\"=\"*200)\n",
        "    print(f\"* [SIM={score:3f}] {res.page_content} [{res.metadata}]\")\n",
        "    print(f\"* {res.page_content}\")\n",
        "    print(f\"* [{res.metadata}]\")"
      ]
    }
  ],
  "metadata": {
    "colab": {
      "private_outputs": true,
      "provenance": []
    },
    "kernelspec": {
      "display_name": "Python 3",
      "name": "python3"
    },
    "language_info": {
      "name": "python"
    }
  },
  "nbformat": 4,
  "nbformat_minor": 0
}
